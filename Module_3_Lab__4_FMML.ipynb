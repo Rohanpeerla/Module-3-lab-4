{
  "nbformat": 4,
  "nbformat_minor": 0,
  "metadata": {
    "colab": {
      "provenance": [],
      "authorship_tag": "ABX9TyNsL6K9Ge+2i/HyT2ryAagW",
      "include_colab_link": true
    },
    "kernelspec": {
      "name": "python3",
      "display_name": "Python 3"
    },
    "language_info": {
      "name": "python"
    }
  },
  "cells": [
    {
      "cell_type": "markdown",
      "metadata": {
        "id": "view-in-github",
        "colab_type": "text"
      },
      "source": [
        "<a href=\"https://colab.research.google.com/github/Rohanpeerla/Module-3-lab-4/blob/master/Module_3_Lab__4_FMML.ipynb\" target=\"_parent\"><img src=\"https://colab.research.google.com/assets/colab-badge.svg\" alt=\"Open In Colab\"/></a>"
      ]
    },
    {
      "cell_type": "markdown",
      "source": [
        "Q1.Instead of using cross-validation, we could also split our dataset into three sets- train, validation, and test set. The training proceeds on the training set, after which evaluation is done on the validation set, and when the experiment seems to be successful, final evaluation can be done on the test set.\n",
        "What do you think are the pros/cons of this method ?\n",
        "\n",
        "\n",
        "Pros:\n",
        "\n",
        "Simplicity: It's straightforward and easy to implement.\n",
        "Computational Efficiency: Training on a single split is computationally cheaper than multiple iterations in cross-validation.\n",
        "Interpretability: Results on the test set give a clear, final performance metric for your model.\n",
        "# New section\n",
        "Cons:\n",
        "\n",
        "Sensitivity to Split: The performance may heavily depend on how you've divided the data. A different split might lead to different results.\n",
        "Limited Data: With a fixed split, you might not use all your data for training, which could be a drawback, especially with smaller datasets.\n",
        "Overfitting to Validation Set: If you iteratively tweak your model based on validation performance, there's a risk of overfitting to the validation set.\n",
        "It really depends on your dataset size, the problem at hand, and your computational resources. Each approach has its time and place!"
      ],
      "metadata": {
        "id": "VkPu-PW_1Y7c"
      }
    },
    {
      "cell_type": "markdown",
      "source": [
        "Q2.Is K-Fold cross validation an exhaustive or non-exhaustive cross validation method ? Justify your answer.\n",
        "\n",
        "\n",
        "K-Fold cross-validation is an exhaustive cross-validation method. In K-Fold cross-validation, the dataset is divided into K subsets (folds), and the model is trained and evaluated K times, each time using a different fold as the test set and the remaining folds as the training set.\n",
        "\n",
        "**Justification:**\n",
        "\n",
        "1. **Exhaustive Evaluation:** K-Fold CV ensures that every data point is used for both training and testing at least once. This provides a more comprehensive evaluation of the model's performance across the entire dataset.\n",
        "\n",
        "2. **Reduced Variance:** By averaging the performance metrics over K folds, the variability in the evaluation results is reduced compared to a single train-validation split. This gives a more reliable estimate of the model's performance."
      ],
      "metadata": {
        "id": "Vzjmv45616IZ"
      }
    },
    {
      "cell_type": "code",
      "source": [
        "## TASK-1:\n",
        "## In the above case, we saw K-Fold cross validation, where we split the dataset into K consecutive folds without taking anything else into account.\n",
        "## Stratified KFold is another strategy that is commonly used, which preserves the percentage of samples for each class in the folds.\n",
        "## Implement Stratified KFold (refer Sklearn docs) and display the results you obtain\n",
        "\n",
        "\n",
        "from sklearn.model_selection import StratifiedKFold, cross_val_score\n",
        "from sklearn.linear_model import LogisticRegression\n",
        "from sklearn.datasets import make_classification  # Replace this with your actual data import\n",
        "\n",
        "X, y = make_classification(n_samples=1000, n_features=20, n_informative=2, n_redundant=10, random_state=42)\n",
        "\n",
        "\n",
        "model = LogisticRegression()\n",
        "\n",
        "stratified_kfold = StratifiedKFold(n_splits=5, shuffle=True, random_state=42)\n",
        "\n",
        "cv_results = cross_val_score(model, X, y, cv=stratified_kfold, scoring='accuracy')\n",
        "\n",
        "print(\"Stratified K-Fold Cross-Validation Results:\")\n",
        "print(\"Accuracy for each fold:\", cv_results)\n",
        "print(\"Average Accuracy:\", cv_results.mean())"
      ],
      "metadata": {
        "colab": {
          "base_uri": "https://localhost:8080/"
        },
        "id": "6ydKVaLs2KQj",
        "outputId": "4e54c476-2500-4f3c-b340-55fcffed69cf"
      },
      "execution_count": 2,
      "outputs": [
        {
          "output_type": "stream",
          "name": "stdout",
          "text": [
            "Stratified K-Fold Cross-Validation Results:\n",
            "Accuracy for each fold: [0.905 0.88  0.82  0.845 0.845]\n",
            "Average Accuracy: 0.859\n"
          ]
        }
      ]
    },
    {
      "cell_type": "code",
      "source": [
        "## TASK-2:\n",
        "## Plot a confusion matrix for the classification above on the scaled data (using the optimal value of k)\n",
        "## Also print out the Precision, Recall and F1-score values\n",
        "\n",
        "\n",
        "from sklearn.model_selection import train_test_split\n",
        "from sklearn.preprocessing import StandardScaler\n",
        "from sklearn.metrics import confusion_matrix, classification_report\n",
        "from sklearn.datasets import make_classification\n",
        "from sklearn.neighbors import KNeighborsClassifier\n",
        "import seaborn as sns\n",
        "import matplotlib.pyplot as plt\n",
        "\n",
        "# Generate dummy data or use your actual data\n",
        "X, y = make_classification(n_samples=1000, n_features=20, n_informative=2, n_redundant=10, random_state=42)\n",
        "\n",
        "# Split the data into training and testing sets\n",
        "X_train, X_test, y_train, y_test = train_test_split(X, y, test_size=0.2, random_state=42)\n",
        "\n",
        "# Assuming you have already found the optimal value of k and scaled your data\n",
        "optimal_k = 5  # Replace this with your optimal k value\n",
        "scaler = StandardScaler()\n",
        "X_train_scaled = scaler.fit_transform(X_train)\n",
        "X_test_scaled = scaler.transform(X_test)\n",
        "\n",
        "model = KNeighborsClassifier(n_neighbors=optimal_k)\n",
        "model.fit(X_train_scaled, y_train)\n",
        "\n",
        "y_pred = model.predict(X_test_scaled)\n",
        "\n",
        "conf_matrix = confusion_matrix(y_test, y_pred)\n",
        "\n",
        "plt.figure(figsize=(8, 6))\n",
        "sns.heatmap(conf_matrix, annot=True, fmt=\"d\", cmap=\"Blues\", cbar=False)\n",
        "plt.title(\"Confusion Matrix\")\n",
        "plt.xlabel(\"Predicted Labels\")\n",
        "plt.ylabel(\"True Labels\")\n",
        "plt.show()\n",
        "\n",
        "print(\"Classification Report:\")\n",
        "print(classification_report(y_test, y_pred))"
      ],
      "metadata": {
        "colab": {
          "base_uri": "https://localhost:8080/",
          "height": 738
        },
        "id": "HYRc25Iq2pe9",
        "outputId": "f18db6e0-80bb-4004-d9d7-9e2f073b140b"
      },
      "execution_count": 3,
      "outputs": [
        {
          "output_type": "display_data",
          "data": {
            "text/plain": [
              "<Figure size 800x600 with 1 Axes>"
            ],
            "image/png": "[encoded data removed]"
          },
          "metadata": {}
        },
        {
          "output_type": "stream",
          "name": "stdout",
          "text": [
            "Classification Report:\n",
            "              precision    recall  f1-score   support\n",
            "\n",
            "           0       0.88      0.89      0.88       111\n",
            "           1       0.86      0.84      0.85        89\n",
            "\n",
            "    accuracy                           0.87       200\n",
            "   macro avg       0.87      0.87      0.87       200\n",
            "weighted avg       0.87      0.87      0.87       200\n",
            "\n"
          ]
        }
      ]
    },
    {
      "cell_type": "code",
      "source": [
        "## TASK-3:\n",
        "## Perform K-Fold Cross validation after standardizing the data. Display your results.\n",
        "\n",
        "from sklearn.model_selection import cross_val_score, KFold\n",
        "from sklearn.preprocessing import StandardScaler\n",
        "from sklearn.datasets import make_classification\n",
        "from sklearn.neighbors import KNeighborsClassifier\n",
        "\n",
        "\n",
        "X, y = make_classification(n_samples=1000, n_features=20, n_informative=2, n_redundant=10, random_state=42)\n",
        "\n",
        "\n",
        "scaler = StandardScaler()\n",
        "X_standardized = scaler.fit_transform(X)\n",
        "\n",
        "model = KNeighborsClassifier(n_neighbors=5)\n",
        "\n",
        "kf = KFold(n_splits=5, shuffle=True, random_state=42)\n",
        "\n",
        "cv_results = cross_val_score(model, X_standardized, y, cv=kf, scoring='accuracy')\n",
        "\n",
        "print(\"K-Fold Cross-Validation Results after Standardization:\")\n",
        "print(\"Accuracy for each fold:\", cv_results)\n",
        "print(\"Average Accuracy:\", cv_results.mean())\n"
      ],
      "metadata": {
        "colab": {
          "base_uri": "https://localhost:8080/"
        },
        "id": "CLA6mT8N224H",
        "outputId": "2fc51fce-4447-489a-f48b-7b06197ca5da"
      },
      "execution_count": 4,
      "outputs": [
        {
          "output_type": "stream",
          "name": "stdout",
          "text": [
            "K-Fold Cross-Validation Results after Standardization:\n",
            "Accuracy for each fold: [0.87  0.855 0.82  0.88  0.855]\n",
            "Average Accuracy: 0.8559999999999999\n"
          ]
        }
      ]
    }
  ]
}